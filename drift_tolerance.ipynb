{
 "cells": [
  {
   "cell_type": "code",
   "execution_count": 1,
   "id": "711ea78b",
   "metadata": {},
   "outputs": [],
   "source": [
    "from data import generate_distributions\n",
    "\n",
    "from numpy import histogram, diff, exp, linspace\n",
    "from pandas import DataFrame\n",
    "from matplotlib import pyplot as plt\n",
    "import pymc as pm\n",
    "from IPython.display import display, clear_output\n",
    "import ipywidgets as widgets\n",
    "\n",
    "from functools import partial\n",
    "\n",
    "%matplotlib inline"
   ]
  },
  {
   "cell_type": "code",
   "execution_count": 2,
   "id": "2d8e7c1e",
   "metadata": {},
   "outputs": [],
   "source": [
    "num_samples = 300"
   ]
  },
  {
   "cell_type": "code",
   "execution_count": 5,
   "id": "123d08a7",
   "metadata": {},
   "outputs": [],
   "source": [
    "no_drift_button = widgets.Button(description=\"Acceptable Drift\")\n",
    "drift_button = widgets.Button(description=\"Unacceptable Drift\")"
   ]
  },
  {
   "cell_type": "code",
   "execution_count": 6,
   "id": "9b245f77",
   "metadata": {},
   "outputs": [],
   "source": [
    "count_trials = 0\n",
    "data = []"
   ]
  },
  {
   "cell_type": "code",
   "execution_count": 7,
   "id": "faa0a66e",
   "metadata": {
    "scrolled": true
   },
   "outputs": [],
   "source": [
    "main_data, alternate_data, psi, hellinger = generate_distributions(num_samples)\n",
    "\n",
    "\n",
    "def on_clicked(button, label):\n",
    "    global psi\n",
    "    global data\n",
    "    global count_trials\n",
    "    \n",
    "    clear_output()\n",
    "\n",
    "    # Log values\n",
    "    data.append(dict(\n",
    "      label=label,\n",
    "      psi=psi[0]\n",
    "    ))\n",
    "    count_trials += 1\n",
    "    \n",
    "    main_data, alternate_data, psi, hellinger = generate_distributions(num_samples)\n",
    "    \n",
    "    plt.close()\n",
    "    \n",
    "    main_hist, main_bin_edges = histogram(main_data)\n",
    "    main_width = diff(main_bin_edges)\n",
    "    main_center = (main_bin_edges[:-1] + main_bin_edges[1:]) / 2\n",
    "    plt.bar(main_center, main_hist, align='center', width=main_width, label='original distribution', alpha=0.5)\n",
    "    \n",
    "    alt_hist, alt_bin_edges = histogram(alternate_data)\n",
    "    alt_width = diff(alt_bin_edges)\n",
    "    alt_center = (alt_bin_edges[:-1] + alt_bin_edges[1:]) / 2\n",
    "    plt.bar(alt_center, alt_hist, align='center', width=alt_width, label='original distribution', alpha=0.5)\n",
    "    plt.legend()\n",
    "    plt.draw()\n",
    "    \n",
    "    display(no_drift_button)\n",
    "    display(drift_button)\n",
    "        \n",
    "no_drift_button.on_click(partial(on_clicked, label=0))\n",
    "drift_button.on_click(partial(on_clicked, label=1))"
   ]
  },
  {
   "cell_type": "code",
   "execution_count": 8,
   "id": "ca39d4d5",
   "metadata": {},
   "outputs": [
    {
     "data": {
      "application/vnd.jupyter.widget-view+json": {
       "model_id": "089d741c3d2547258dd86853f8a5f98b",
       "version_major": 2,
       "version_minor": 0
      },
      "text/plain": [
       "Button(description='Acceptable Drift', style=ButtonStyle())"
      ]
     },
     "metadata": {},
     "output_type": "display_data"
    },
    {
     "data": {
      "application/vnd.jupyter.widget-view+json": {
       "model_id": "dde29b8381124646ad845c24a79fbf5d",
       "version_major": 2,
       "version_minor": 0
      },
      "text/plain": [
       "Button(description='Unacceptable Drift', style=ButtonStyle())"
      ]
     },
     "metadata": {},
     "output_type": "display_data"
    },
    {
     "data": {
      "image/png": "[encoded data removed]",
      "text/plain": [
       "<Figure size 640x480 with 1 Axes>"
      ]
     },
     "metadata": {},
     "output_type": "display_data"
    }
   ],
   "source": [
    "main_hist, main_bin_edges = histogram(main_data)\n",
    "main_width = diff(main_bin_edges)\n",
    "main_center = (main_bin_edges[:-1] + main_bin_edges[1:]) / 2\n",
    "plt.bar(main_center, main_hist, align='center', width=main_width, label='original distribution', alpha=0.5)\n",
    "\n",
    "alt_hist, alt_bin_edges = histogram(alternate_data)\n",
    "alt_width = diff(alt_bin_edges)\n",
    "alt_center = (alt_bin_edges[:-1] + alt_bin_edges[1:]) / 2\n",
    "plt.bar(alt_center, alt_hist, align='center', width=alt_width, label='original distribution', alpha=0.5)\n",
    "# plt.draw()\n",
    "\n",
    "display(no_drift_button)\n",
    "display(drift_button)"
   ]
  },
  {
   "cell_type": "code",
   "execution_count": 15,
   "id": "ee2ded22",
   "metadata": {},
   "outputs": [],
   "source": [
    "for d in data:\n",
    "    d[\"psi\"] = d[\"psi\"]"
   ]
  },
  {
   "cell_type": "code",
   "execution_count": 16,
   "id": "8d85a45e",
   "metadata": {},
   "outputs": [],
   "source": [
    "df = DataFrame(data)"
   ]
  },
  {
   "cell_type": "code",
   "execution_count": 19,
   "id": "2389b1f3",
   "metadata": {},
   "outputs": [],
   "source": [
    "def logistic(x, beta):\n",
    "    return 1.0 / (1 + exp(beta * x))"
   ]
  },
  {
   "cell_type": "code",
   "execution_count": 20,
   "id": "d25e42db",
   "metadata": {},
   "outputs": [
    {
     "name": "stderr",
     "output_type": "stream",
     "text": [
      "Auto-assigning NUTS sampler...\n",
      "Initializing NUTS using jitter+adapt_diag...\n",
      "Multiprocess sampling (4 chains in 4 jobs)\n",
      "NUTS: [beta, sigma]\n"
     ]
    },
    {
     "data": {
      "text/html": [
       "\n",
       "    <div>\n",
       "        <style>\n",
       "            /* Turns off some styling */\n",
       "            progress {\n",
       "                /* gets rid of default border in Firefox and Opera. */\n",
       "                border: none;\n",
       "                /* Needs to be in here for Safari polyfill so background images work as expected. */\n",
       "                background-size: auto;\n",
       "            }\n",
       "            .progress-bar-interrupted, .progress-bar-interrupted::-webkit-progress-bar {\n",
       "                background: #F44336;\n",
       "            }\n",
       "        </style>\n",
       "      <progress value='24000' class='' max='24000' style='width:300px; height:20px; vertical-align: middle;'></progress>\n",
       "      100.00% [24000/24000 00:12<00:00 Sampling 4 chains, 0 divergences]\n",
       "    </div>\n",
       "    "
      ],
      "text/plain": [
       "<IPython.core.display.HTML object>"
      ]
     },
     "metadata": {},
     "output_type": "display_data"
    },
    {
     "name": "stderr",
     "output_type": "stream",
     "text": [
      "Sampling 4 chains for 1_000 tune and 5_000 draw iterations (4_000 + 20_000 draws total) took 27 seconds.\n"
     ]
    }
   ],
   "source": [
    "with pm.Model() as model:\n",
    "    beta = pm.Normal(\"beta\", -5, 10)\n",
    "    sigma = pm.HalfCauchy(\"sigma\", beta=10)\n",
    "    \n",
    "    y = pm.Normal(\"y\", mu=logistic(df[\"psi\"], beta), sigma=sigma, observed=df[\"label\"])\n",
    "    \n",
    "    idata = pm.sample(5000)"
   ]
  },
  {
   "cell_type": "code",
   "execution_count": 21,
   "id": "5fc31e5e",
   "metadata": {},
   "outputs": [],
   "source": [
    "mean_beta = idata.posterior.beta.mean()"
   ]
  },
  {
   "cell_type": "code",
   "execution_count": 22,
   "id": "134f32d6",
   "metadata": {},
   "outputs": [
    {
     "data": {
      "text/plain": [
       "<matplotlib.legend.Legend at 0x21383b21290>"
      ]
     },
     "execution_count": 22,
     "metadata": {},
     "output_type": "execute_result"
    },
    {
     "data": {
      "image/png": "[encoded data removed]",
      "text/plain": [
       "<Figure size 640x480 with 1 Axes>"
      ]
     },
     "metadata": {},
     "output_type": "display_data"
    }
   ],
   "source": [
    "xmin = df[\"psi\"].min()\n",
    "xmax = df[\"psi\"].max()\n",
    "\n",
    "plt.scatter(df[\"psi\"], df[\"label\"], label=\"observations\", alpha=0.8)\n",
    "\n",
    "log_x = linspace(xmin - 0.1, xmax + 0.1, 100)\n",
    "# log_x = linspace(-10, 10, 200)\n",
    "log_y = logistic(log_x, float(mean_beta))\n",
    "# log_y = logistic(log_x, -5)\n",
    "\n",
    "plt.plot(log_x, log_y, label=\"user drift tolerance\", color=\"red\")\n",
    "plt.legend()"
   ]
  }
 ],
 "metadata": {
  "kernelspec": {
   "display_name": "Python 3 (ipykernel)",
   "language": "python",
   "name": "python3"
  },
  "language_info": {
   "codemirror_mode": {
    "name": "ipython",
    "version": 3
   },
   "file_extension": ".py",
   "mimetype": "text/x-python",
   "name": "python",
   "nbconvert_exporter": "python",
   "pygments_lexer": "ipython3",
   "version": "3.11.5"
  }
 },
 "nbformat": 4,
 "nbformat_minor": 5
}
